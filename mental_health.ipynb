{
 "cells": [
  {
   "cell_type": "markdown",
   "metadata": {},
   "source": [
    "# Mental Health in the Tech Industry"
   ]
  },
  {
   "cell_type": "markdown",
   "metadata": {},
   "source": [
    "## 1. Introduction"
   ]
  },
  {
   "cell_type": "markdown",
   "metadata": {},
   "source": [
    "Mental health is a critical component of overall well-being. This analysis seeks to leverage a dataset (https://www.kaggle.com/datasets/anth7310/mental-health-in-the-tech-industry) from Kaggle to better understand the sociodemographic features of survey respondents and their mental health experiences."
   ]
  },
  {
   "cell_type": "markdown",
   "metadata": {},
   "source": [
    "**Business aim: To identify the most prevalent mental health conditions within the tech industry and determine their prevalence rates, focusing on identifying the country or countries as targets for calculating these rates.**"
   ]
  },
  {
   "cell_type": "markdown",
   "metadata": {},
   "source": [
    "The final loaded dataset contains the following features:\n",
    "\n",
    "**year** - Specifies the year the survey was conducted (e.g., 2014, 2016, 2017, 2018, 2019).\n",
    "\n",
    "**survey** - Indicates the specific survey from which the data was collected.\n",
    "\n",
    "**question_id** - An identifier for each question in the survey.\n",
    "\n",
    "**question_text** - The full text of the question asked in the survey.\n",
    "\n",
    "**user_id** - An identifier for each respondent participating in the survey.\n",
    "\n",
    "**answer_text** - The respondent's answer to the corresponding survey question."
   ]
  },
  {
   "cell_type": "code",
   "execution_count": 1,
   "metadata": {},
   "outputs": [],
   "source": [
    "import numpy as np\n",
    "import pandas as pd\n",
    "import matplotlib.pyplot as plt\n",
    "import seaborn as sns\n",
    "from scipy.stats import norm, spearmanr\n",
    "from mental_health_utils import *"
   ]
  },
  {
   "cell_type": "code",
   "execution_count": 2,
   "metadata": {},
   "outputs": [],
   "source": [
    "pd.set_option(\"display.max_colwidth\", 200)"
   ]
  },
  {
   "cell_type": "code",
   "execution_count": 3,
   "metadata": {},
   "outputs": [],
   "source": [
    "custom_palette = sns.color_palette([\"#E69F00\", \"#56B4E9\", \"#009E73\"])\n",
    "sns.set_palette(custom_palette)"
   ]
  },
  {
   "cell_type": "markdown",
   "metadata": {},
   "source": [
    "## 2. Data Loading & Checking"
   ]
  },
  {
   "cell_type": "markdown",
   "metadata": {},
   "source": [
    "**Joining tables into the final dataset.**"
   ]
  },
  {
   "cell_type": "code",
   "execution_count": 4,
   "metadata": {},
   "outputs": [],
   "source": [
    "db_path = \"dataset/mental_health.sqlite\"\n",
    "mental_df = join_tables_to_dataframe(db_path)"
   ]
  },
  {
   "cell_type": "code",
   "execution_count": 5,
   "metadata": {},
   "outputs": [
    {
     "data": {
      "text/html": [
       "<div>\n",
       "<style scoped>\n",
       "    .dataframe tbody tr th:only-of-type {\n",
       "        vertical-align: middle;\n",
       "    }\n",
       "\n",
       "    .dataframe tbody tr th {\n",
       "        vertical-align: top;\n",
       "    }\n",
       "\n",
       "    .dataframe thead th {\n",
       "        text-align: right;\n",
       "    }\n",
       "</style>\n",
       "<table border=\"1\" class=\"dataframe\">\n",
       "  <thead>\n",
       "    <tr style=\"text-align: right;\">\n",
       "      <th></th>\n",
       "      <th>year</th>\n",
       "      <th>survey</th>\n",
       "      <th>question_id</th>\n",
       "      <th>question_text</th>\n",
       "      <th>user_id</th>\n",
       "      <th>answer_text</th>\n",
       "    </tr>\n",
       "  </thead>\n",
       "  <tbody>\n",
       "    <tr>\n",
       "      <th>0</th>\n",
       "      <td>2014</td>\n",
       "      <td>mental health survey for 2014</td>\n",
       "      <td>1</td>\n",
       "      <td>What is your age?</td>\n",
       "      <td>1</td>\n",
       "      <td>37</td>\n",
       "    </tr>\n",
       "    <tr>\n",
       "      <th>1</th>\n",
       "      <td>2014</td>\n",
       "      <td>mental health survey for 2014</td>\n",
       "      <td>1</td>\n",
       "      <td>What is your age?</td>\n",
       "      <td>2</td>\n",
       "      <td>44</td>\n",
       "    </tr>\n",
       "    <tr>\n",
       "      <th>2</th>\n",
       "      <td>2014</td>\n",
       "      <td>mental health survey for 2014</td>\n",
       "      <td>1</td>\n",
       "      <td>What is your age?</td>\n",
       "      <td>3</td>\n",
       "      <td>32</td>\n",
       "    </tr>\n",
       "    <tr>\n",
       "      <th>3</th>\n",
       "      <td>2014</td>\n",
       "      <td>mental health survey for 2014</td>\n",
       "      <td>1</td>\n",
       "      <td>What is your age?</td>\n",
       "      <td>4</td>\n",
       "      <td>31</td>\n",
       "    </tr>\n",
       "    <tr>\n",
       "      <th>4</th>\n",
       "      <td>2014</td>\n",
       "      <td>mental health survey for 2014</td>\n",
       "      <td>1</td>\n",
       "      <td>What is your age?</td>\n",
       "      <td>5</td>\n",
       "      <td>31</td>\n",
       "    </tr>\n",
       "  </tbody>\n",
       "</table>\n",
       "</div>"
      ],
      "text/plain": [
       "   year                         survey  question_id      question_text  \\\n",
       "0  2014  mental health survey for 2014            1  What is your age?   \n",
       "1  2014  mental health survey for 2014            1  What is your age?   \n",
       "2  2014  mental health survey for 2014            1  What is your age?   \n",
       "3  2014  mental health survey for 2014            1  What is your age?   \n",
       "4  2014  mental health survey for 2014            1  What is your age?   \n",
       "\n",
       "   user_id answer_text  \n",
       "0        1          37  \n",
       "1        2          44  \n",
       "2        3          32  \n",
       "3        4          31  \n",
       "4        5          31  "
      ]
     },
     "execution_count": 5,
     "metadata": {},
     "output_type": "execute_result"
    }
   ],
   "source": [
    "mental_df.head()"
   ]
  },
  {
   "cell_type": "markdown",
   "metadata": {},
   "source": [
    "**Checking for NaN values.**"
   ]
  },
  {
   "cell_type": "code",
   "execution_count": 6,
   "metadata": {},
   "outputs": [
    {
     "name": "stdout",
     "output_type": "stream",
     "text": [
      "How many NaN values: 0\n"
     ]
    }
   ],
   "source": [
    "missing_values_counts = mental_df.isna().sum()\n",
    "print(f\"How many NaN values:\", sum(missing_values_counts))"
   ]
  },
  {
   "cell_type": "markdown",
   "metadata": {},
   "source": [
    "**However, about a quarter (56598/236898) of the answers have a value of -1, which indicates 'Not Applicable', 'Missing value' or 'Error' depending on the survey question:**"
   ]
  },
  {
   "cell_type": "code",
   "execution_count": 7,
   "metadata": {},
   "outputs": [
    {
     "data": {
      "text/html": [
       "<div>\n",
       "<style scoped>\n",
       "    .dataframe tbody tr th:only-of-type {\n",
       "        vertical-align: middle;\n",
       "    }\n",
       "\n",
       "    .dataframe tbody tr th {\n",
       "        vertical-align: top;\n",
       "    }\n",
       "\n",
       "    .dataframe thead th {\n",
       "        text-align: right;\n",
       "    }\n",
       "</style>\n",
       "<table border=\"1\" class=\"dataframe\">\n",
       "  <thead>\n",
       "    <tr style=\"text-align: right;\">\n",
       "      <th></th>\n",
       "      <th>count</th>\n",
       "      <th>unique</th>\n",
       "      <th>top</th>\n",
       "      <th>freq</th>\n",
       "    </tr>\n",
       "  </thead>\n",
       "  <tbody>\n",
       "    <tr>\n",
       "      <th>survey</th>\n",
       "      <td>236898</td>\n",
       "      <td>5</td>\n",
       "      <td>mental health survey for 2016</td>\n",
       "      <td>88238</td>\n",
       "    </tr>\n",
       "    <tr>\n",
       "      <th>question_text</th>\n",
       "      <td>236898</td>\n",
       "      <td>105</td>\n",
       "      <td>What is your age?</td>\n",
       "      <td>4218</td>\n",
       "    </tr>\n",
       "    <tr>\n",
       "      <th>answer_text</th>\n",
       "      <td>236898</td>\n",
       "      <td>4215</td>\n",
       "      <td>-1</td>\n",
       "      <td>56598</td>\n",
       "    </tr>\n",
       "  </tbody>\n",
       "</table>\n",
       "</div>"
      ],
      "text/plain": [
       "                count unique                            top   freq\n",
       "survey         236898      5  mental health survey for 2016  88238\n",
       "question_text  236898    105              What is your age?   4218\n",
       "answer_text    236898   4215                             -1  56598"
      ]
     },
     "execution_count": 7,
     "metadata": {},
     "output_type": "execute_result"
    }
   ],
   "source": [
    "mental_df.describe(include=[\"object\"]).T"
   ]
  },
  {
   "cell_type": "markdown",
   "metadata": {},
   "source": [
    "**For example, the survey question 'If you live in the United States, which state or territory do you live in?' implies that some answers may have 'Not Applicable' values (value of -1 in dataset).**"
   ]
  },
  {
   "cell_type": "code",
   "execution_count": 8,
   "metadata": {},
   "outputs": [
    {
     "name": "stdout",
     "output_type": "stream",
     "text": [
      "Count of -1 values: 1622\n"
     ]
    }
   ],
   "source": [
    "united_states_df = mental_df[\n",
    "    mental_df[\"question_text\"]\n",
    "    == \"If you live in the United States, which state or territory do you live in?\"\n",
    "]\n",
    "\n",
    "count_negative_1 = (united_states_df[\"answer_text\"] == \"-1\").sum()\n",
    "print(\"Count of -1 values:\", count_negative_1)"
   ]
  },
  {
   "cell_type": "markdown",
   "metadata": {},
   "source": [
    "**An example of a 'Missing value' or 'Error' case, because the age (question 'What is your age?') cannot be negative:**"
   ]
  },
  {
   "cell_type": "code",
   "execution_count": 9,
   "metadata": {},
   "outputs": [
    {
     "name": "stdout",
     "output_type": "stream",
     "text": [
      "Count of -1 values: 5\n"
     ]
    }
   ],
   "source": [
    "age_df = mental_df[mental_df[\"question_text\"] == \"What is your age?\"].copy()\n",
    "age_df[\"answer_text\"] = pd.to_numeric(age_df[\"answer_text\"])\n",
    "distinct_values = age_df[\"answer_text\"].value_counts()\n",
    "\n",
    "if -1 in distinct_values.index:\n",
    "    count_negative_1 = distinct_values.loc[-1]\n",
    "else:\n",
    "    count_negative_1 = 0\n",
    "\n",
    "print(\"Count of -1 values:\", count_negative_1)"
   ]
  },
  {
   "cell_type": "markdown",
   "metadata": {},
   "source": [
    "**In the EDA part, -1 values will be treated based on the specific survey question.**"
   ]
  },
  {
   "cell_type": "markdown",
   "metadata": {},
   "source": [
    "**Checking for any duplicate rows.**"
   ]
  },
  {
   "cell_type": "code",
   "execution_count": 10,
   "metadata": {},
   "outputs": [
    {
     "name": "stdout",
     "output_type": "stream",
     "text": [
      "How many duplicate rows: 0\n"
     ]
    }
   ],
   "source": [
    "duplicated_rows_count = mental_df.duplicated().sum()\n",
    "print(f\"How many duplicate rows:\", sum(missing_values_counts))"
   ]
  },
  {
   "cell_type": "markdown",
   "metadata": {},
   "source": [
    "## 3. Overview of the Respondents of the Survey"
   ]
  },
  {
   "cell_type": "markdown",
   "metadata": {},
   "source": [
    "### 3.1 What is the sample size?"
   ]
  },
  {
   "cell_type": "code",
   "execution_count": 11,
   "metadata": {},
   "outputs": [
    {
     "name": "stdout",
     "output_type": "stream",
     "text": [
      "Sample size is: 4218\n"
     ]
    }
   ],
   "source": [
    "unique_respondents = mental_df[\"user_id\"].nunique()\n",
    "print(f\"Sample size is: {unique_respondents}\")"
   ]
  },
  {
   "cell_type": "markdown",
   "metadata": {},
   "source": [
    "**Grouping the number of the respondents by year.**"
   ]
  },
  {
   "cell_type": "code",
   "execution_count": 12,
   "metadata": {},
   "outputs": [],
   "source": [
    "respondents_df = (\n",
    "    mental_df.groupby(\"year\").agg(respondents=(\"user_id\", \"nunique\")).reset_index()\n",
    ")"
   ]
  },
  {
   "cell_type": "markdown",
   "metadata": {},
   "source": [
    "**Plotting result.**"
   ]
  },
  {
   "cell_type": "code",
   "execution_count": 13,
   "metadata": {},
   "outputs": [
    {
     "data": {
      "image/png": "[encoded data removed]",
      "text/plain": [
       "<Figure size 720x360 with 1 Axes>"
      ]
     },
     "metadata": {
      "needs_background": "light"
     },
     "output_type": "display_data"
    }
   ],
   "source": [
    "respondents_filtered_df = respondents_df[respondents_df[\"year\"] != 2015]\n",
    "\n",
    "plt.figure(figsize=(10, 5))\n",
    "sns.lineplot(\n",
    "    x=\"year\",\n",
    "    y=\"respondents\",\n",
    "    data=respondents_filtered_df,\n",
    "    marker=\"o\",\n",
    "    color=custom_palette[0],\n",
    ")\n",
    "\n",
    "plt.title(\"Number of the Respondents by Year\", fontsize=16, loc=\"right\")\n",
    "plt.gca().spines[\"top\"].set_visible(False)\n",
    "plt.gca().spines[\"right\"].set_visible(False)\n",
    "plt.xlabel(\"Year\")\n",
    "plt.ylabel(\"Number of the Respondents\")\n",
    "plt.xticks(respondents_filtered_df[\"year\"])\n",
    "\n",
    "for i in range(len(respondents_filtered_df)):\n",
    "    plt.text(\n",
    "        respondents_filtered_df[\"year\"].iloc[i],\n",
    "        respondents_filtered_df[\"respondents\"].iloc[i],\n",
    "        str(respondents_filtered_df[\"respondents\"].iloc[i]),\n",
    "        ha=\"left\",\n",
    "        va=\"bottom\",\n",
    "    )\n",
    "\n",
    "plt.show()"
   ]
  },
  {
   "cell_type": "markdown",
   "metadata": {},
   "source": [
    "**The number of respondents increased from 2014 to 2016 but then decreased in the following years.**"
   ]
  },
  {
   "cell_type": "markdown",
   "metadata": {},
   "source": [
    "### 3.2 What are the sociodemographic features of the respondents?"
   ]
  },
  {
   "cell_type": "markdown",
   "metadata": {},
   "source": [
    "**<font color='blue'>Sociodemographic features are answers to these questions:</font>**\n",
    "\n",
    "* **What is your age?**\n",
    "* **What is your gender?**\n",
    "* **What country do you live in?**\n",
    "* **If you live in the United States, which state or territory do you live in?**\n",
    "* **Are you self-employed?**\n",
    "* **What country do you work in?**\n",
    "* **What US state or territory do you work in?**\n",
    "* **What is your race?**"
   ]
  },
  {
   "cell_type": "markdown",
   "metadata": {},
   "source": [
    "### 3.3 **Searching for any evidence of sampling bias.**"
   ]
  },
  {
   "cell_type": "markdown",
   "metadata": {},
   "source": [
    "**First of all, data was collected from the OSMI (Open Source Mental Illness) organization's surveys (https://osmihelp.org/research.html) on mental illness in the tech industry. Here are key points to consider:**"
   ]
  },
  {
   "cell_type": "markdown",
   "metadata": {},
   "source": [
    "* **Participation in the survey is voluntary (<font color='red'>Non-Probability Sampling</font>), meaning individuals who are more aware of mental health issues or personally affected by them may be more inclined to respond. This could result in an overrepresentation of individuals with mental health challenges, inflating prevalence rates.**\n",
    "* **The survey may disproportionately capture responses from individuals in certain regions or countries (e.g., the USA), influenced by OSMI's reach and language availability. Prevalence rates may not be globally representative and could miss variations in mental health awareness and access to care across cultures.**"
   ]
  },
  {
   "cell_type": "markdown",
   "metadata": {},
   "source": [
    "## 4. Data Analysis"
   ]
  },
  {
   "cell_type": "markdown",
   "metadata": {},
   "source": [
    "### 4.1 Main sociodemographic features distributions."
   ]
  },
  {
   "cell_type": "markdown",
   "metadata": {},
   "source": [
    "#### <font color='red'>Age</font>"
   ]
  },
  {
   "cell_type": "markdown",
   "metadata": {},
   "source": [
    "**Checking responses to the question 'What is your age?'.**"
   ]
  },
  {
   "cell_type": "code",
   "execution_count": 14,
   "metadata": {},
   "outputs": [
    {
     "name": "stdout",
     "output_type": "stream",
     "text": [
      "answer_text\n",
      "30    250\n",
      "29    229\n",
      "32    227\n",
      "31    223\n",
      "28    220\n",
      "Name: count, dtype: int64\n",
      "\n",
      "... and 60 more distinct values.\n",
      "\n",
      "Count of -1 values: 5\n",
      "Total count of responses: 4218\n"
     ]
    }
   ],
   "source": [
    "distinct_values, count_missing, total_count = count_values(\n",
    "    mental_df, \"What is your age?\"\n",
    ")"
   ]
  },
  {
   "cell_type": "markdown",
   "metadata": {},
   "source": [
    "**A minority of the answers are invalid (I believe people working in the tech industry are between 18 and 75 years of age) or contain missing values ('-1'). These values are replaced with the median.**"
   ]
  },
  {
   "cell_type": "code",
   "execution_count": 15,
   "metadata": {},
   "outputs": [],
   "source": [
    "age_df = mental_df[mental_df[\"question_text\"] == \"What is your age?\"].copy()\n",
    "age_df[\"answer_text\"] = pd.to_numeric(age_df[\"answer_text\"])\n",
    "\n",
    "median_value = age_df.loc[\n",
    "    (age_df[\"answer_text\"] >= 18) & (age_df[\"answer_text\"] <= 75), \"answer_text\"\n",
    "].median()\n",
    "\n",
    "age_df.loc[\n",
    "    (age_df[\"answer_text\"] < 18) | (age_df[\"answer_text\"] > 75), \"answer_text\"\n",
    "] = median_value"
   ]
  },
  {
   "cell_type": "markdown",
   "metadata": {},
   "source": [
    "**Plotting age distribution.**"
   ]
  },
  {
   "cell_type": "code",
   "execution_count": 16,
   "metadata": {},
   "outputs": [
    {
     "data": {
      "image/png": "[encoded data removed]",
      "text/plain": [
       "<Figure size 720x360 with 1 Axes>"
      ]
     },
     "metadata": {
      "needs_background": "light"
     },
     "output_type": "display_data"
    }
   ],
   "source": [
    "plt.figure(figsize=(10, 5))\n",
    "sns.histplot(age_df[\"answer_text\"], kde=True, bins=56, color=custom_palette[1])\n",
    "\n",
    "plt.title(\"Age Distribution\", fontsize=16)\n",
    "plt.gca().spines[\"top\"].set_visible(False)\n",
    "plt.gca().spines[\"right\"].set_visible(False)\n",
    "plt.xlabel(\"Age\")\n",
    "plt.ylabel(\"Count\")\n",
    "plt.xlim(left=18, right=80)\n",
    "\n",
    "plt.show()"
   ]
  },
  {
   "cell_type": "markdown",
   "metadata": {},
   "source": [
    "**The tech industry is dominated by younger people, reflecting potential challenges for older professionals in the industry.**"
   ]
  },
  {
   "cell_type": "markdown",
   "metadata": {},
   "source": [
    "#### <font color='red'>Gender</font>"
   ]
  },
  {
   "cell_type": "markdown",
   "metadata": {},
   "source": [
    "**Checking responses to the question 'What is your gender?'.**"
   ]
  },
  {
   "cell_type": "code",
   "execution_count": 17,
   "metadata": {},
   "outputs": [
    {
     "name": "stdout",
     "output_type": "stream",
     "text": [
      "answer_text\n",
      "Male      2830\n",
      "Female     914\n",
      "male       212\n",
      "female     110\n",
      "-1          24\n",
      "Name: count, dtype: int64\n",
      "\n",
      "... and 96 more distinct values.\n",
      "\n",
      "Count of -1 values: 24\n",
      "Total count of responses: 4218\n"
     ]
    }
   ],
   "source": [
    "distinct_values, count_missing, total_count = count_values(\n",
    "    mental_df, \"What is your gender?\"\n",
    ")"
   ]
  },
  {
   "cell_type": "markdown",
   "metadata": {},
   "source": [
    "**All genders other than 'Male' and 'Female', including values such as '-1' (representing possible missing or intentionally undisclosed gender values), now will be grouped into an 'Other' category. This approach ensures the overall distribution remains accurate while maintaining clarity and simplicity in the analysis.**"
   ]
  },
  {
   "cell_type": "code",
   "execution_count": 18,
   "metadata": {},
   "outputs": [],
   "source": [
    "gender_mapping = {\"male\": \"Male\", \"female\": \"Female\"}\n",
    "\n",
    "gender_df = transform_and_aggregate(\n",
    "    df=mental_df,\n",
    "    question=\"What is your gender?\",\n",
    "    column_name=\"gender\",\n",
    "    mapping=gender_mapping,\n",
    ")"
   ]
  },
  {
   "cell_type": "markdown",
   "metadata": {},
   "source": [
    "**Plotting result.**"
   ]
  },
  {
   "cell_type": "code",
   "execution_count": 19,
   "metadata": {},
   "outputs": [
    {
     "data": {
      "image/png": "[encoded data removed]",
      "text/plain": [
       "<Figure size 864x360 with 1 Axes>"
      ]
     },
     "metadata": {
      "needs_background": "light"
     },
     "output_type": "display_data"
    }
   ],
   "source": [
    "plot_bar_with_percentages(\n",
    "    gender_df,\n",
    "    \"gender\",\n",
    "    \"count\",\n",
    "    \"gender\",\n",
    "    \"Gender Distribution\",\n",
    "    \"Gender\",\n",
    "    \"Frequency\",\n",
    "    palette=custom_palette,\n",
    ")"
   ]
  },
  {
   "cell_type": "markdown",
   "metadata": {},
   "source": [
    "**The dataset shows a significant skew towards males, reflecting the gender imbalance commonly observed in the tech industry.**"
   ]
  },
  {
   "cell_type": "markdown",
   "metadata": {},
   "source": [
    "#### <font color='red'>Country of Residence</font>"
   ]
  },
  {
   "cell_type": "markdown",
   "metadata": {},
   "source": [
    "**Checking responses to the question 'What country do you live in?'.**"
   ]
  },
  {
   "cell_type": "code",
   "execution_count": 20,
   "metadata": {},
   "outputs": [
    {
     "name": "stdout",
     "output_type": "stream",
     "text": [
      "answer_text\n",
      "United States of America    1853\n",
      "United States                751\n",
      "United Kingdom               482\n",
      "Canada                       199\n",
      "Germany                      136\n",
      "Name: count, dtype: int64\n",
      "\n",
      "... and 76 more distinct values.\n",
      "\n",
      "Count of -1 values: 2\n",
      "Total count of responses: 4218\n"
     ]
    }
   ],
   "source": [
    "distinct_values, count_missing, total_count = count_values(\n",
    "    mental_df, question_text=\"What country do you live in?\"\n",
    ")"
   ]
  },
  {
   "cell_type": "markdown",
   "metadata": {},
   "source": [
    "**All countries other than 'United States', including values such as '-1' (representing potential missing values), now will be be grouped into an 'Other' category. This approach ensures that the overall distribution remains accurate while maintaining clarity and simplicity in the analysis.**"
   ]
  },
  {
   "cell_type": "code",
   "execution_count": 21,
   "metadata": {},
   "outputs": [],
   "source": [
    "country_mapping = {\n",
    "    \"united states of america\": \"United States\",\n",
    "    \"united states\": \"United States\",\n",
    "}\n",
    "\n",
    "country_df = transform_and_aggregate(\n",
    "    df=mental_df,\n",
    "    question=\"What country do you live in?\",\n",
    "    column_name=\"country\",\n",
    "    mapping=country_mapping,\n",
    ")"
   ]
  },
  {
   "cell_type": "markdown",
   "metadata": {},
   "source": [
    "**Plotting result.**"
   ]
  },
  {
   "cell_type": "code",
   "execution_count": 22,
   "metadata": {},
   "outputs": [
    {
     "data": {
      "image/png": "[encoded data removed]",
      "text/plain": [
       "<Figure size 864x360 with 1 Axes>"
      ]
     },
     "metadata": {
      "needs_background": "light"
     },
     "output_type": "display_data"
    }
   ],
   "source": [
    "plot_bar_with_percentages(\n",
    "    country_df,\n",
    "    \"country\",\n",
    "    \"count\",\n",
    "    \"country\",\n",
    "    \"Country of Residence Distribution\",\n",
    "    \"Country\",\n",
    "    \"Frequency\",\n",
    "    palette=[custom_palette[0], custom_palette[1]],\n",
    ")"
   ]
  },
  {
   "cell_type": "markdown",
   "metadata": {},
   "source": [
    "**<font color='blue'>The dataset shows a significant skew towards the United States, this is an important factor to consider when calculating prevalence rates.</font>**"
   ]
  },
  {
   "cell_type": "markdown",
   "metadata": {},
   "source": [
    "### 4.2 Exploring Relationships Between Variables."
   ]
  },
  {
   "cell_type": "markdown",
   "metadata": {},
   "source": [
    "#### <font color='red'>Age vs Self-employment</font>"
   ]
  },
  {
   "cell_type": "markdown",
   "metadata": {},
   "source": [
    "**Checking responses to the question 'Are you self-employed?'.**"
   ]
  },
  {
   "cell_type": "code",
   "execution_count": 23,
   "metadata": {},
   "outputs": [
    {
     "name": "stdout",
     "output_type": "stream",
     "text": [
      "answer_text\n",
      "0     3550\n",
      "1      650\n",
      "-1      18\n",
      "Name: count, dtype: int64\n",
      "\n",
      "Count of -1 values: 18\n",
      "Total count of responses: 4218\n"
     ]
    }
   ],
   "source": [
    "distinct_values, count_missing, total_count = count_values(\n",
    "    mental_df, question_text=\"Are you self-employed?\"\n",
    ")"
   ]
  },
  {
   "cell_type": "markdown",
   "metadata": {},
   "source": [
    "**Globally, fewer people are self-employed ('1') compared to those working in traditional employment ('0'). Additionally, a minority of the answers contain missing values ('-1'), which are replaced with 'Yes', 'No', and the mode accordingly.**"
   ]
  },
  {
   "cell_type": "code",
   "execution_count": 24,
   "metadata": {},
   "outputs": [],
   "source": [
    "self_employment_df = mental_df[\n",
    "    mental_df[\"question_text\"] == \"Are you self-employed?\"\n",
    "].copy()\n",
    "self_employment_df = self_employment_df[[\"user_id\", \"answer_text\"]]\n",
    "\n",
    "self_employment_df.loc[self_employment_df[\"answer_text\"] == \"0\", \"answer_text\"] = \"No\"\n",
    "self_employment_df.loc[self_employment_df[\"answer_text\"] == \"1\", \"answer_text\"] = \"Yes\"\n",
    "\n",
    "mode_value = (\n",
    "    self_employment_df.loc[self_employment_df[\"answer_text\"] != \"-1\", \"answer_text\"]\n",
    "    .mode()\n",
    "    .iloc[0]\n",
    ")\n",
    "\n",
    "self_employment_df.loc[self_employment_df[\"answer_text\"] == \"-1\", \"answer_text\"] = (\n",
    "    mode_value\n",
    ")"
   ]
  },
  {
   "cell_type": "markdown",
   "metadata": {},
   "source": [
    "**Merging `age_df` and `self_employment_df` dataframes on `user_id`.**"
   ]
  },
  {
   "cell_type": "code",
   "execution_count": 25,
   "metadata": {},
   "outputs": [],
   "source": [
    "merged_df = pd.merge(\n",
    "    age_df[[\"user_id\", \"answer_text\"]], self_employment_df, on=\"user_id\"\n",
    ")\n",
    "\n",
    "merged_df.columns = [\"user_id\", \"age\", \"self-employed\"]"
   ]
  },
  {
   "cell_type": "markdown",
   "metadata": {},
   "source": [
    "**Plotting boxplots.**"
   ]
  },
  {
   "cell_type": "code",
   "execution_count": 26,
   "metadata": {},
   "outputs": [
    {
     "data": {
      "image/png": "[encoded data removed]",
      "text/plain": [
       "<Figure size 720x432 with 1 Axes>"
      ]
     },
     "metadata": {
      "needs_background": "light"
     },
     "output_type": "display_data"
    }
   ],
   "source": [
    "plt.figure(figsize=(10, 6))\n",
    "sns.boxplot(\n",
    "    data=merged_df,\n",
    "    x=\"self-employed\",\n",
    "    y=\"age\",\n",
    "    hue=\"self-employed\",\n",
    "    palette=[custom_palette[1], custom_palette[2]],\n",
    ")\n",
    "\n",
    "plt.title(\"Age vs Self-Employment Status\", fontsize=16)\n",
    "plt.gca().spines[\"top\"].set_visible(False)\n",
    "plt.gca().spines[\"right\"].set_visible(False)\n",
    "\n",
    "plt.show()"
   ]
  },
  {
   "cell_type": "markdown",
   "metadata": {},
   "source": [
    "**Self-employed individuals, on average, are slightly older than those in traditional employment. However, the age distribution is quite similar across both groups, indicating that age does not vary widely between them, despite the presence of more outliers among non-self-employed individuals compared to self-employed individuals.**"
   ]
  },
  {
   "cell_type": "markdown",
   "metadata": {},
   "source": [
    "#### <font color='red'>Gender vs Current Mental Health Status</font>"
   ]
  },
  {
   "cell_type": "markdown",
   "metadata": {},
   "source": [
    "**Checking responses to the question 'Do you currently have a mental health disorder?'.**"
   ]
  },
  {
   "cell_type": "code",
   "execution_count": 27,
   "metadata": {},
   "outputs": [
    {
     "name": "stdout",
     "output_type": "stream",
     "text": [
      "answer_text\n",
      "Yes           1237\n",
      "No             969\n",
      "Maybe          327\n",
      "Possibly       301\n",
      "Don't Know     124\n",
      "Name: count, dtype: int64\n",
      "\n",
      "Count of -1 values: 0\n",
      "Total count of responses: 2958\n"
     ]
    }
   ],
   "source": [
    "distinct_values, count_missing, total_count = count_values(\n",
    "    mental_df, question_text=\"Do you currently have a mental health disorder?\"\n",
    ")"
   ]
  },
  {
   "cell_type": "markdown",
   "metadata": {},
   "source": [
    "**Merging `gender_df` and `current_disorder_df` dataframes on `user_id`.**"
   ]
  },
  {
   "cell_type": "code",
   "execution_count": 28,
   "metadata": {},
   "outputs": [],
   "source": [
    "current_disorder_df = mental_df[\n",
    "    mental_df[\"question_text\"] == \"Do you currently have a mental health disorder?\"\n",
    "].copy()\n",
    "\n",
    "current_disorder_df = current_disorder_df[[\"user_id\", \"answer_text\"]]\n",
    "\n",
    "gender_df = mental_df[mental_df[\"question_text\"] == \"What is your gender?\"].copy()\n",
    "gender_df[\"answer_text\"] = gender_df[\"answer_text\"].str.lower()\n",
    "\n",
    "gender_df.loc[\n",
    "    (gender_df[\"answer_text\"] != \"female\") & (gender_df[\"answer_text\"] != \"male\"),\n",
    "    \"answer_text\",\n",
    "] = \"other\"\n",
    "\n",
    "merged_df = pd.merge(\n",
    "    gender_df[[\"user_id\", \"answer_text\"]], current_disorder_df, on=\"user_id\"\n",
    ")\n",
    "\n",
    "merged_df.columns = [\"user_id\", \"gender\", \"mental_health_disorder\"]"
   ]
  },
  {
   "cell_type": "markdown",
   "metadata": {},
   "source": [
    "**Plotting heatmap.**"
   ]
  },
  {
   "cell_type": "code",
   "execution_count": 29,
   "metadata": {},
   "outputs": [
    {
     "data": {
      "image/png": "[encoded data removed]",
      "text/plain": [
       "<Figure size 720x432 with 2 Axes>"
      ]
     },
     "metadata": {
      "needs_background": "light"
     },
     "output_type": "display_data"
    }
   ],
   "source": [
    "cross_tab = pd.crosstab(\n",
    "    merged_df[\"gender\"], merged_df[\"mental_health_disorder\"], margins=True\n",
    ")\n",
    "\n",
    "custom_cmap = sns.light_palette(custom_palette[2], as_cmap=True)\n",
    "\n",
    "plt.figure(figsize=(10, 6))\n",
    "sns.heatmap(cross_tab, annot=True, fmt=\"d\", cmap=custom_cmap)\n",
    "\n",
    "plt.title(\"Do you currently have a mental health disorder?\", fontsize=16)\n",
    "plt.xlabel(\"\")\n",
    "plt.ylabel(\"\")\n",
    "\n",
    "plt.show()"
   ]
  },
  {
   "cell_type": "markdown",
   "metadata": {},
   "source": [
    "**Across all genders, there is a notable prevalence of reported mental health disorders, with females reporting a higher proportion than males. However, a large portion of individuals remain uncertain or hesitant to classify themselves.**"
   ]
  },
  {
   "cell_type": "markdown",
   "metadata": {},
   "source": [
    "### 4.3 Correlation Analysis: Age and Mental Health Disorder."
   ]
  },
  {
   "cell_type": "markdown",
   "metadata": {},
   "source": [
    "**Merging the `age_df` and `current_disorder_df` dataframes on `user_id`.**"
   ]
  },
  {
   "cell_type": "code",
   "execution_count": 30,
   "metadata": {},
   "outputs": [],
   "source": [
    "merged_df = pd.merge(\n",
    "    age_df[[\"user_id\", \"answer_text\"]], current_disorder_df, on=\"user_id\"\n",
    ")\n",
    "\n",
    "merged_df.columns = [\"user_id\", \"age\", \"mental_health_disorder\"]"
   ]
  },
  {
   "cell_type": "markdown",
   "metadata": {},
   "source": [
    "**Mapping the ordinal variable to numerical ranks and adding jitter to the ranks.**"
   ]
  },
  {
   "cell_type": "code",
   "execution_count": 31,
   "metadata": {},
   "outputs": [],
   "source": [
    "rank_mapping = {\"Yes\": 5, \"Maybe\": 4, \"Possibly\": 3, \"Don't Know\": 2, \"No\": 1}\n",
    "merged_df[\"mental_health_rank\"] = merged_df[\"mental_health_disorder\"].map(rank_mapping)\n",
    "\n",
    "jitter = np.random.normal(0, 0.1, size=len(merged_df))\n",
    "merged_df[\"mental_health_rank_jitter\"] = merged_df[\"mental_health_rank\"] + jitter"
   ]
  },
  {
   "cell_type": "markdown",
   "metadata": {},
   "source": [
    "**Plotting scatterplot.**"
   ]
  },
  {
   "cell_type": "code",
   "execution_count": 32,
   "metadata": {},
   "outputs": [
    {
     "data": {
      "image/png": "[encoded data removed]",
      "text/plain": [
       "<Figure size 720x432 with 1 Axes>"
      ]
     },
     "metadata": {
      "needs_background": "light"
     },
     "output_type": "display_data"
    }
   ],
   "source": [
    "plt.figure(figsize=(10, 6))\n",
    "sns.scatterplot(\n",
    "    x=\"mental_health_rank_jitter\", y=\"age\", data=merged_df, color=custom_palette[1]\n",
    ")\n",
    "\n",
    "plt.title(\"Age vs Mental Health Disorder\", fontsize=16)\n",
    "plt.xlabel(\"Mental Health Disorder Status\")\n",
    "plt.ylabel(\"Age\")\n",
    "plt.gca().spines[\"top\"].set_visible(False)\n",
    "plt.gca().spines[\"right\"].set_visible(False)\n",
    "plt.xticks(ticks=range(1, 6), labels=[\"No\", \"Don't Know\", \"Possibly\", \"Maybe\", \"Yes\"])\n",
    "\n",
    "plt.show()"
   ]
  },
  {
   "cell_type": "markdown",
   "metadata": {},
   "source": [
    "**The points are not consistent, suggesting a non-monotonic relationship between the variables. However, Spearman’s Rank Correlation is still calculated, though its result might not fully capture the relationship if it’s truly non-monotonic..**"
   ]
  },
  {
   "cell_type": "code",
   "execution_count": 33,
   "metadata": {},
   "outputs": [
    {
     "name": "stdout",
     "output_type": "stream",
     "text": [
      "Spearman correlation: -0.0356336389934729, P-value: 0.052645096547779796\n"
     ]
    }
   ],
   "source": [
    "correlation, p_value = spearmanr(merged_df[\"mental_health_rank\"], merged_df[\"age\"])\n",
    "print(f\"Spearman correlation: {correlation}, P-value: {p_value}\")"
   ]
  },
  {
   "cell_type": "markdown",
   "metadata": {},
   "source": [
    "* **A Spearman correlation close to 0 indicates that there is little to no monotonic relationship between the variables. In other words, as age increases, there isn't a clear, consistent trend in the mental health disorder data.**\n",
    "* **Given the p-value is above 0.05, this result is not statistically significant, so we cannot confidently conclude that age has any effect on the likelihood of having a mental health disorder.**"
   ]
  },
  {
   "cell_type": "markdown",
   "metadata": {},
   "source": [
    "## 5. Prevalence Rate of Top 3 Mental Conditions in the Tech Industry in the USA."
   ]
  },
  {
   "cell_type": "markdown",
   "metadata": {},
   "source": [
    "**Checking responses to the question 'Is your employer primarily a tech company/organization?'.**"
   ]
  },
  {
   "cell_type": "code",
   "execution_count": 34,
   "metadata": {},
   "outputs": [
    {
     "name": "stdout",
     "output_type": "stream",
     "text": [
      "answer_text\n",
      "1     2888\n",
      "0      826\n",
      "-1     504\n",
      "Name: count, dtype: int64\n",
      "\n",
      "Count of -1 values: 504\n",
      "Total count of responses: 4218\n"
     ]
    }
   ],
   "source": [
    "distinct_values, count_missing, total_count = count_values(\n",
    "    mental_df, question_text=\"Is your employer primarily a tech company/organization?\"\n",
    ")"
   ]
  },
  {
   "cell_type": "markdown",
   "metadata": {},
   "source": [
    "**Excluding records where the employer was not identified as a tech company or organization to focus on the impact of mental health issues within tech companies. Additionally, the United States was chosen as the target country, based on findings during the analysis.**"
   ]
  },
  {
   "cell_type": "code",
   "execution_count": 35,
   "metadata": {},
   "outputs": [],
   "source": [
    "tech_respondents = mental_df[\n",
    "    (\n",
    "        mental_df[\"question_text\"]\n",
    "        == \"Is your employer primarily a tech company/organization?\"\n",
    "    )\n",
    "    & (mental_df[\"answer_text\"] == \"1\")\n",
    "][\"user_id\"]\n",
    "\n",
    "us_respondents = mental_df[\n",
    "    (mental_df[\"question_text\"] == \"What country do you live in?\")\n",
    "    & (mental_df[\"answer_text\"].isin([\"United States of America\", \"United States\"]))\n",
    "][\"user_id\"]\n",
    "\n",
    "target_respondents = set(us_respondents).intersection(set(tech_respondents))\n",
    "target_df = mental_df[mental_df[\"user_id\"].isin(target_respondents)]"
   ]
  },
  {
   "cell_type": "markdown",
   "metadata": {},
   "source": [
    "**Checking responses to the question 'If yes, what condition(s) have you been diagnosed with?'.**"
   ]
  },
  {
   "cell_type": "code",
   "execution_count": 36,
   "metadata": {},
   "outputs": [
    {
     "name": "stdout",
     "output_type": "stream",
     "text": [
      "answer_text\n",
      "-1                                                     292\n",
      "Mood Disorder (Depression, Bipolar Disorder, etc)      187\n",
      "Anxiety Disorder (Generalized, Social, Phobia, etc)    144\n",
      "Attention Deficit Hyperactivity Disorder                68\n",
      "Post-traumatic Stress Disorder                          28\n",
      "Name: count, dtype: int64\n",
      "\n",
      "... and 16 more distinct values.\n",
      "\n",
      "Count of -1 values: 292\n",
      "Total count of responses: 816\n"
     ]
    }
   ],
   "source": [
    "distinct_values, count_missing, total_count = count_values(\n",
    "    target_df, question_text=\"If yes, what condition(s) have you been diagnosed with?\"\n",
    ")"
   ]
  },
  {
   "cell_type": "markdown",
   "metadata": {},
   "source": [
    "**In this case, a value of '-1' indicates that the respondent does not have any disorder. Additionally, some questions can allow multiple answers, meaning the same user_id may appear more than once for a given question_id. The goal is to calculate the total number of unique respondents and slice the data to assign the top 3 disorders.**"
   ]
  },
  {
   "cell_type": "code",
   "execution_count": 37,
   "metadata": {},
   "outputs": [
    {
     "name": "stdout",
     "output_type": "stream",
     "text": [
      "Total respondents: 540\n"
     ]
    }
   ],
   "source": [
    "diagnosed_df = target_df[\n",
    "    target_df[\"question_text\"]\n",
    "    == \"If yes, what condition(s) have you been diagnosed with?\"\n",
    "]\n",
    "\n",
    "total_respondents = diagnosed_df[\"user_id\"].nunique()\n",
    "top_disorders = distinct_values.iloc[1:4]\n",
    "\n",
    "print(f\"Total respondents: {total_respondents}\")"
   ]
  },
  {
   "cell_type": "markdown",
   "metadata": {},
   "source": [
    "**It is true that some respondents report having more than one disorder. Calculating the prevalence rate for each top3 disorder.**"
   ]
  },
  {
   "cell_type": "code",
   "execution_count": 38,
   "metadata": {},
   "outputs": [],
   "source": [
    "prevalence_rates = (top_disorders / total_respondents) * 100"
   ]
  },
  {
   "cell_type": "markdown",
   "metadata": {},
   "source": [
    "**Calculating the confidence intervals for each disorder.**"
   ]
  },
  {
   "cell_type": "code",
   "execution_count": 39,
   "metadata": {},
   "outputs": [],
   "source": [
    "conf_intervals = []\n",
    "\n",
    "for count in top_disorders:\n",
    "    p = count / total_respondents\n",
    "    lower, upper = calculate_confidence_interval(p, total_respondents)\n",
    "    conf_intervals.append((lower * 100, upper * 100))"
   ]
  },
  {
   "cell_type": "markdown",
   "metadata": {},
   "source": [
    "**Preparing data for plotting.**"
   ]
  },
  {
   "cell_type": "code",
   "execution_count": 40,
   "metadata": {},
   "outputs": [],
   "source": [
    "plot_data = pd.DataFrame(\n",
    "    {\n",
    "        \"condition\": top_disorders.index,\n",
    "        \"count\": top_disorders.values,\n",
    "        \"prevalence_rate\": prevalence_rates.values,\n",
    "        \"ci_lower\": [ci[0] for ci in conf_intervals],\n",
    "        \"ci_upper\": [ci[1] for ci in conf_intervals],\n",
    "    }\n",
    ")"
   ]
  },
  {
   "cell_type": "markdown",
   "metadata": {},
   "source": [
    "**Plotting result.**"
   ]
  },
  {
   "cell_type": "code",
   "execution_count": 41,
   "metadata": {},
   "outputs": [
    {
     "data": {
      "image/png": "[encoded data removed]",
      "text/plain": [
       "<Figure size 864x432 with 1 Axes>"
      ]
     },
     "metadata": {
      "needs_background": "light"
     },
     "output_type": "display_data"
    }
   ],
   "source": [
    "plot_prevalence_with_ci(\n",
    "    plot_data=plot_data,\n",
    "    title=\"Prevalence Rate of Top Mental Health Disorders with 95% Confidence Intervals\",\n",
    "    palette=custom_palette,\n",
    ")"
   ]
  },
  {
   "cell_type": "markdown",
   "metadata": {},
   "source": [
    "**The confidence intervals provide a range within which we expect the true prevalence rates of each disorder to lie, based on the sample data.** \n",
    "* **Mood Disorder:** The prevalence rate is 34.6%. This means that we are 95% confident that the true prevalence of mood disorders in the population lies between 21% and 39%.\n",
    "* **Anxiety Disorder:** The prevalence rate is 26.7%. We can be 95% confident that the true prevalence of anxiety disorders in the population is between 23% and 30%.\n",
    "* **ADHD:** The prevalence rate is 12.6%. This suggests that the true prevalence of ADHD in the population is likely to be between 10% and 15%, with 95% confidence."
   ]
  },
  {
   "cell_type": "markdown",
   "metadata": {},
   "source": [
    "## 6. Conclusions"
   ]
  },
  {
   "cell_type": "markdown",
   "metadata": {},
   "source": [
    "* **Respondent Trends:** The number of respondents increased from 2014 to 2016, but declined in subsequent years.\n",
    "* **Sociodemographic Biases:** Voluntary participation may lead to an overrepresentation of individuals with mental health challenges, and potential regional biases, particularly from the USA, affecting the global representativeness of the data.\n",
    "* **Age Distribution:** The tech industry shows a dominance of younger professionals, with a narrow age range (18-75 years), possibly excluding older professionals.\n",
    "* **Gender and Countries Distributions:** There is a skew towards male respondents and those from the United States.\n",
    "* **Employment and Age:** Self-employed individuals tend to be slightly older, but the age distribution is quite similar between self-employed and traditionally employed groups.\n",
    "* **Gender and Mental Health:** Females report higher rates of mental health disorders compared to males, but many respondents remain uncertain about their mental health status.\n",
    "* **Age and Mental Health:** The relationship between age and mental health disorders appears non-monotonic, with Spearman's correlation indicating no significant relationship.\n",
    "* **Prevalence of Mental Disorders in the Tech Industry in the USA:** Mood disorders (34.6%), anxiety disorders (26.7%), and ADHD (12.6%) are the most common, with confidence intervals indicating reliable prevalence estimates.\n"
   ]
  },
  {
   "cell_type": "markdown",
   "metadata": {},
   "source": [
    "**Some suggestions for improvement:**\n",
    "* Expand the correlation analysis by including other sociodemographic factors to identify stronger correlations with mental health disorders.\n",
    "* Perform deeper statistical analysis, like comparing mental health conditions across industries (e.g., tech vs. non-tech).\n",
    "* Look how specific metrics changed over of the year."
   ]
  }
 ],
 "metadata": {
  "kernelspec": {
   "display_name": "Python 3 (ipykernel)",
   "language": "python",
   "name": "python3"
  },
  "language_info": {
   "codemirror_mode": {
    "name": "ipython",
    "version": 3
   },
   "file_extension": ".py",
   "mimetype": "text/x-python",
   "name": "python",
   "nbconvert_exporter": "python",
   "pygments_lexer": "ipython3",
   "version": "3.10.3"
  }
 },
 "nbformat": 4,
 "nbformat_minor": 4
}
